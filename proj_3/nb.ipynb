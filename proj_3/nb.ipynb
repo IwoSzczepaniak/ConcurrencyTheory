{
 "cells": [
  {
   "cell_type": "markdown",
   "metadata": {},
   "source": [
    "Iwo Szczepaniak"
   ]
  },
  {
   "cell_type": "markdown",
   "metadata": {},
   "source": [
    "### IDEA"
   ]
  },
  {
   "cell_type": "markdown",
   "metadata": {},
   "source": [
    "ZADANIE ZOSTAŁO ZREALIZOWANE W PYTHONIE 3.9.12\n",
    "\n",
    "Use lab2 code\n",
    "\n",
    "Wszystkie grafy reprezentowane są jako listy sąsiedztwa\n",
    "<br><br>\n",
    "\n",
    "\n",
    "Testy przeprowadzone zostały na trzech przykładach z zajęć:\n",
    "\n",
    "\n",
    "word = 'BAADCB'\n",
    "transactions = ['x<-x+y', 'y<-y+2z','x<-3x+z','z<-y-z']\n",
    "\n",
    "word2 = 'ACDCFBBE' \n",
    "transactions2 = ['x<-y+z', 'y<-x+w+y','x<-x+y+v','w<-v+z', 'v<-x+v+w', 'z<-y+z+v']\n",
    "\n",
    "word3 = 'ACDCFBBE' \n",
    "transactions3 = ['x<-x+1', 'y<-y+2z','x<-3x+z','w<-w+v', 'z<-y-z', 'v<-x+v']"
   ]
  },
  {
   "cell_type": "markdown",
   "metadata": {},
   "source": [
    "### IMPLEMENTACJA ZADANIA"
   ]
  },
  {
   "cell_type": "markdown",
   "metadata": {},
   "source": [
    "Import potrzebnych bibliotek"
   ]
  },
  {
   "cell_type": "code",
   "execution_count": 5,
   "metadata": {},
   "outputs": [],
   "source": [
    "import string\n",
    "import re\n",
    "import graphviz"
   ]
  },
  {
   "cell_type": "markdown",
   "metadata": {},
   "source": [
    "Funckje pomocnicze, umożliwiające wydzielenie zmiennych spośród wejściowego stringa."
   ]
  },
  {
   "cell_type": "markdown",
   "metadata": {},
   "source": [
    "TESTY"
   ]
  },
  {
   "cell_type": "markdown",
   "metadata": {},
   "source": [
    "Wizualizacje są renderowane i zapisywane podczas testu w plikach .png oraz .txt"
   ]
  },
  {
   "cell_type": "markdown",
   "metadata": {},
   "source": [
    "3 <br>\n",
    "2.0 1.0 3.0 <br>\n",
    "4.0 3.0 8.0 <br>\n",
    "6.0 5.0 16.0<br>\n",
    "6.0 15.0 27.0"
   ]
  },
  {
   "cell_type": "code",
   "execution_count": 6,
   "metadata": {},
   "outputs": [
    {
     "name": "stdout",
     "output_type": "stream",
     "text": [
      "n is: 3\n",
      "Matrix is:\n",
      "[['2.0', '1.0', '3.0', '6.0'], ['4.0', '3.0', '8.0', '15.0'], ['6.0', '5.0', '16.0', '27.0']]\n",
      "Alphabet is:\n",
      " ['A_0_*_1', 'B_0_0_1', 'C_0_0_1', 'B_0_1_1', 'C_0_1_1', 'B_0_2_1', 'C_0_2_1', 'B_0_3_1', 'C_0_3_1', 'A_0_*_2', 'B_0_0_2', 'C_0_0_2', 'B_0_1_2', 'C_0_1_2', 'B_0_2_2', 'C_0_2_2', 'B_0_3_2', 'C_0_3_2', 'A_1_*_2', 'B_1_1_2', 'C_1_1_2', 'B_1_2_2', 'C_1_2_2', 'B_1_3_2', 'C_1_3_2']\n",
      "Transactions are: ['B_0_0_1 <- A_0_*_1', 'B_0_1_1 <- A_0_*_1', 'B_0_2_1 <- A_0_*_1', 'B_0_3_1 <- A_0_*_1', 'C_0_0_1 <- B_0_0_1', 'C_0_1_1 <- B_0_1_1', 'A_1_*_2 <- C_0_1_1', 'C_0_2_1 <- B_0_2_1', 'C_0_3_1 <- B_0_3_1', 'B_0_0_2 <- A_0_*_2', 'B_0_1_2 <- A_0_*_2', 'B_0_2_2 <- A_0_*_2', 'B_0_3_2 <- A_0_*_2', 'C_0_0_2 <- B_0_0_2', 'C_0_1_2 <- B_0_1_2', 'A_1_*_2 <- C_0_1_2', 'C_0_2_2 <- B_0_2_2', 'C_0_3_2 <- B_0_3_2', 'B_1_1_2 <- A_1_*_2', 'B_1_2_2 <- A_1_*_2', 'B_1_3_2 <- A_1_*_2', 'C_1_1_2 <- B_1_1_2', 'C_1_2_2 <- B_1_2_2', 'C_1_3_2 <- B_1_3_2']\n"
     ]
    }
   ],
   "source": [
    "\n",
    "def input(file):\n",
    "    with open(file, 'r') as f:\n",
    "        n = f.readline().strip()\n",
    "        transactions = []\n",
    "        for line in f:\n",
    "            transactions.append(line.split())\n",
    "    matrix_core = transactions[:-1]\n",
    "    new_col = transactions[-1]\n",
    "    # add new column to matrix\n",
    "    for i in range(len(matrix_core)):\n",
    "        matrix_core[i].append(new_col[i])\n",
    "    return int(n), len(matrix_core[0]), matrix_core\n",
    "\n",
    "input_file = \"input.txt\"\n",
    "n, m, matrix = input(input_file)\n",
    "\n",
    "print(f\"n is: {n}\")\n",
    "print(f\"Matrix is:\\n{matrix}\")\n",
    "\n",
    "indexing_1 = False\n",
    "start = 0\n",
    "if indexing_1:\n",
    "    n+=1\n",
    "    m+=1\n",
    "    start = 1\n",
    "\n",
    "trans_dependencies = []\n",
    "for i in range(start, n):\n",
    "    for k in range(i+1, n):\n",
    "        trans_dependencies.append([])\n",
    "\n",
    "alph = []\n",
    "for i in range(start, n):\n",
    "    for k in range(i+1, n):\n",
    "        alph.append(f\"A_{i}_*_{k}\")\n",
    "        trans_dependencies[i+k-1].append(f\"A_{i}_*_{k}\")\n",
    "        for j in range(i, m):\n",
    "            alph.append(f\"B_{i}_{j}_{k}\")\n",
    "            alph.append(f\"C_{i}_{j}_{k}\")\n",
    "            trans_dependencies[i+k-1].append(f\"B_{i}_{j}_{k}\")\n",
    "            trans_dependencies[i+k-1].append(f\"C_{i}_{j}_{k}\")\n",
    "\n",
    "print(\"Alphabet is:\\n\", alph)\n",
    "# print(\"Transactions_dependencies are: \")\n",
    "# for line in trans_dependencies: \n",
    "#     print(line)\n",
    "\n",
    "transactions = []\n",
    "for i,el_prev in enumerate(alph): \n",
    "    for k in range(i+1, len(alph)):\n",
    "        el_next = alph[k]\n",
    "\n",
    "        cond1 = (el_prev[1:] == el_next[1:])\n",
    "        cond2 = (el_prev[4]==el_next[2] and el_prev[2] != el_next[2] and el_prev[0] != 'B')\n",
    "        cond3 = (el_prev[4] == \"*\" and el_prev[2] == el_next[2] and el_prev[6] == el_next[6] and el_next[0] == 'B')\n",
    "\n",
    "        if  cond1 or cond2 or cond3:\n",
    "            # ex. B_1,1,2 -> C_1,1,2,                        ex. C_1,2,2 -> A_2,3                                                           ex. A_1,2->B_1,1,2\n",
    "            if f\"{el_prev} <- {el_next}\" not in transactions:\n",
    "                transactions.append(f\"{el_next} <- {el_prev}\")\n",
    "            if (el_prev[4]==el_next[2] and el_prev[2] != el_next[2] and el_prev[0] != 'B'):\n",
    "                break\n",
    "\n",
    "\n",
    "\n",
    "\n",
    "# el_prev[4] == line[k][4] or (el_prev[4] == '*' and line[k][0] == 'B' and el_prev[6] == line[k][6])\n",
    "\n",
    "print(f\"Transactions are: {transactions}\")\n",
    "# word = 'BAADCB'\n",
    "# transactions = ['x<-x+y', 'y<-y+2z','x<-3x+z','z<-y-z']\n"
   ]
  },
  {
   "cell_type": "code",
   "execution_count": 7,
   "metadata": {},
   "outputs": [
    {
     "name": "stdout",
     "output_type": "stream",
     "text": [
      "{'B_0_0_1': ['A_0_*_1'], 'A_0_*_1': [], 'B_0_1_1': ['A_0_*_1'], 'B_0_2_1': ['A_0_*_1'], 'B_0_3_1': ['A_0_*_1'], 'C_0_0_1': ['B_0_0_1'], 'C_0_1_1': ['B_0_1_1'], 'A_1_*_2': ['C_0_1_1', 'C_0_1_2'], 'C_0_2_1': ['B_0_2_1'], 'C_0_3_1': ['B_0_3_1'], 'B_0_0_2': ['A_0_*_2'], 'A_0_*_2': [], 'B_0_1_2': ['A_0_*_2'], 'B_0_2_2': ['A_0_*_2'], 'B_0_3_2': ['A_0_*_2'], 'C_0_0_2': ['B_0_0_2'], 'C_0_1_2': ['B_0_1_2'], 'C_0_2_2': ['B_0_2_2'], 'C_0_3_2': ['B_0_3_2'], 'B_1_1_2': ['A_1_*_2'], 'B_1_2_2': ['A_1_*_2'], 'B_1_3_2': ['A_1_*_2'], 'C_1_1_2': ['B_1_1_2'], 'C_1_2_2': ['B_1_2_2'], 'C_1_3_2': ['B_1_3_2']}\n"
     ]
    }
   ],
   "source": [
    "def create_graph(transactions):\n",
    "    D = dict()\n",
    "    for transaction in transactions:\n",
    "        prev, next = transaction.split(\" <- \")\n",
    "        if prev not in D:\n",
    "            D[prev] = []\n",
    "        if next not in D:\n",
    "            D[next] = []\n",
    "        D[prev].append(next)\n",
    "    return D\n",
    "\n",
    "graph = create_graph(transactions)\n",
    "print(graph)\n",
    "\n"
   ]
  },
  {
   "cell_type": "code",
   "execution_count": 8,
   "metadata": {},
   "outputs": [],
   "source": [
    "import graphviz\n",
    "def vis_graph(graph):\n",
    "    dot = graphviz.Digraph(comment='The Round Table')\n",
    "    for key in graph:\n",
    "        dot.node(key)\n",
    "        for val in graph[key]:\n",
    "            dot.edge(val, key)\n",
    "    dot.format = 'png'\n",
    "    dot.render(filename=f\"graph.txt\", view=True)\n",
    "\n",
    "vis_graph(graph)"
   ]
  }
 ],
 "metadata": {
  "kernelspec": {
   "display_name": "base",
   "language": "python",
   "name": "python3"
  },
  "language_info": {
   "codemirror_mode": {
    "name": "ipython",
    "version": 3
   },
   "file_extension": ".py",
   "mimetype": "text/x-python",
   "name": "python",
   "nbconvert_exporter": "python",
   "pygments_lexer": "ipython3",
   "version": "3.10.12"
  }
 },
 "nbformat": 4,
 "nbformat_minor": 2
}
