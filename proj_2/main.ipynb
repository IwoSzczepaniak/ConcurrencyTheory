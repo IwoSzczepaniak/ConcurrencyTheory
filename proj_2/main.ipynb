{
 "cells": [
  {
   "cell_type": "markdown",
   "metadata": {},
   "source": [
    "### v1"
   ]
  },
  {
   "cell_type": "code",
   "execution_count": 3,
   "metadata": {},
   "outputs": [
    {
     "name": "stdout",
     "output_type": "stream",
     "text": [
      "Dependency Relation (D): {'a': {'b'}, 'b': {'c'}, 'c': {'d'}, 'd': {'b'}}\n",
      "Independence Relation (I): {('d', 'a'), ('c', 'a'), ('a', 'c'), ('a', 'd')}\n",
      "Foata Normal Form (FNF): [['a'], ['b'], ['c'], ['d'], ['b']]\n",
      "Dependency Graph:\n",
      "a -> b\n",
      "b -> c\n",
      "c -> d\n",
      "d -> b\n"
     ]
    }
   ],
   "source": [
    "def calculate_dependency_relation(word):\n",
    "    dependency_relation = {}\n",
    "    for i in range(len(word)-1):\n",
    "        if word[i] not in dependency_relation:\n",
    "            dependency_relation[word[i]] = set()\n",
    "        dependency_relation[word[i]].add(word[i+1])\n",
    "    return dependency_relation\n",
    "\n",
    "def calculate_independence_relation(alphabet, dependency_relation):\n",
    "    independence_relation = set()\n",
    "    for i in alphabet:\n",
    "        for j in alphabet:\n",
    "            if i != j and j not in dependency_relation.get(i, set()) and i not in dependency_relation.get(j, set()):\n",
    "                independence_relation.add((i, j))\n",
    "    return independence_relation\n",
    "\n",
    "def calculate_foata_normal_form(word):\n",
    "    foata_normal_form = []\n",
    "    current_block = []\n",
    "    for i in range(len(word)-1):\n",
    "        current_block.append(word[i])\n",
    "        if word[i] != word[i+1]:\n",
    "            foata_normal_form.append(current_block)\n",
    "            current_block = []\n",
    "    current_block.append(word[-1])\n",
    "    foata_normal_form.append(current_block)\n",
    "    return foata_normal_form\n",
    "\n",
    "def draw_dependency_graph(dependency_relation):\n",
    "    print(\"Dependency Graph:\")\n",
    "    for key, values in dependency_relation.items():\n",
    "        print(f\"{key} -> {', '.join(values)}\")\n",
    "\n",
    "if __name__ == \"__main__\":\n",
    "    alphabet = ['a', 'b', 'c', 'd']  # Sample alphabet\n",
    "    word = 'abcdb'  # Sample word\n",
    "\n",
    "    dependency_relation = calculate_dependency_relation(word)\n",
    "    independence_relation = calculate_independence_relation(alphabet, dependency_relation)\n",
    "    foata_normal_form = calculate_foata_normal_form(word)\n",
    "\n",
    "    print(\"Dependency Relation (D):\", dependency_relation)\n",
    "    print(\"Independence Relation (I):\", independence_relation)\n",
    "    print(\"Foata Normal Form (FNF):\", foata_normal_form)\n",
    "\n",
    "    draw_dependency_graph(dependency_relation)\n"
   ]
  },
  {
   "cell_type": "markdown",
   "metadata": {},
   "source": [
    "### v2"
   ]
  },
  {
   "cell_type": "code",
   "execution_count": 83,
   "metadata": {},
   "outputs": [
    {
     "name": "stdout",
     "output_type": "stream",
     "text": [
      "[('x', ['x', 'y']), ('y', ['y', 'z']), ('x', ['x', 'z']), ('z', ['y', 'z'])]\n",
      "[['C', 'B'], ['A', 'D'], ['A', 'D'], ['B', 'C']]\n",
      "[['A', 'A', 'A', 'A'], ['B', 'B', 'B', 'B'], ['C', 'C', 'C', 'C'], ['D', 'D', 'D', 'D']]\n"
     ]
    }
   ],
   "source": [
    "import string\n",
    "import re\n",
    "\n",
    "def find_alph(t):\n",
    "    alphabet = \"\"\n",
    "    uppercase_letters = string.ascii_uppercase\n",
    "    for i, trans in enumerate(t):\n",
    "        trans.split('<-')\n",
    "        if len(trans) > 1:\n",
    "            alphabet += uppercase_letters[i]\n",
    "    return alphabet\n",
    "\n",
    "# def create_dict_trans(t):\n",
    "#     dict_trans = {}\n",
    "#     for trans in t:\n",
    "#         if len(trans.split('<-')) == 2:\n",
    "#             el1 = trans.split('<-')[0].strip()\n",
    "#             el2 =  trans.split('<-')[1].strip()\n",
    "#             if el1 not in dict_trans:\n",
    "#                 dict_trans[el1] = [el2]\n",
    "#             else:\n",
    "#                 new_trans = dict_trans[el1]\n",
    "#                 new_trans.append(el2)\n",
    "#                 dict_trans[el1] = new_trans\n",
    "#     return dict_trans\n",
    "\n",
    "\n",
    "def remove_operators_and_numbers(input_string):\n",
    "    # Use a regular expression to remove operators and numbers\n",
    "    result_string = re.sub(r'[0-9+\\-*/]', '.', input_string)\n",
    "    result_string = result_string.split('.')\n",
    "    return [item for item in result_string if item != '']\n",
    "\n",
    "def create_list_trans(t):\n",
    "    list_trans = []\n",
    "    for trans in t:\n",
    "        if len(trans.split('<-')) == 2:\n",
    "            el1 = trans.split('<-')[0].strip()\n",
    "            el2 =  trans.split('<-')[1].strip()\n",
    "            list_trans.append((el1, remove_operators_and_numbers(el2)))\n",
    "    return list_trans\n",
    "\n",
    "\n",
    "\n",
    "def find_D(alph, list_t):\n",
    "    D = [[] for _ in range(len(alph))]\n",
    "    for i, let in enumerate(alph):\n",
    "        args = list_t[i][1]\n",
    "        for arg in args:\n",
    "            for j, l in enumerate(alph):\n",
    "                if i != j and arg in list_t[j][0]: \n",
    "                    if alph[j] not in D[i]: D[i].append(alph[j])\n",
    "                    if alph[i] not in D[j]: D[j].append(alph[i])\n",
    "    return D\n",
    "\n",
    "def find_I(alph, D):\n",
    "    I = [[alph[i]]*len(alph) for i in range(len(alph))]\n",
    "    print(I)\n",
    "\n",
    "    \n",
    "\n",
    "if __name__ == \"__main__\":\n",
    "    word = 'BAADCB'  # Sample word\n",
    "    transactions = ['x<-x+y', 'y<-y+2z','x<-3x+z','z<-y-z']\n",
    "    alphabet = find_alph(transactions)\n",
    "    # print(alphabet)\n",
    "    list_transaction = create_list_trans(transactions)\n",
    "    print(list_transaction)\n",
    "    D = find_D(alphabet, list_transaction)\n",
    "    print(D)\n",
    "    I = find_I(alphabet, D)"
   ]
  }
 ],
 "metadata": {
  "kernelspec": {
   "display_name": "base",
   "language": "python",
   "name": "python3"
  },
  "language_info": {
   "codemirror_mode": {
    "name": "ipython",
    "version": 3
   },
   "file_extension": ".py",
   "mimetype": "text/x-python",
   "name": "python",
   "nbconvert_exporter": "python",
   "pygments_lexer": "ipython3",
   "version": "3.9.12"
  }
 },
 "nbformat": 4,
 "nbformat_minor": 2
}
